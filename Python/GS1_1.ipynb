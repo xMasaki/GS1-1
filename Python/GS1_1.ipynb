{
 "cells": [
  {
   "attachments": {},
   "cell_type": "markdown",
   "metadata": {},
   "source": [
    "# Setup"
   ]
  },
  {
   "cell_type": "code",
   "execution_count": null,
   "metadata": {},
   "outputs": [],
   "source": [
    "pip install sympy"
   ]
  },
  {
   "cell_type": "code",
   "execution_count": null,
   "metadata": {},
   "outputs": [],
   "source": [
    "pip install pandas"
   ]
  },
  {
   "cell_type": "code",
   "execution_count": null,
   "metadata": {},
   "outputs": [],
   "source": [
    "from sympy import *\n",
    "import pandas as pd"
   ]
  },
  {
   "attachments": {},
   "cell_type": "markdown",
   "metadata": {},
   "source": [
    "# Código"
   ]
  },
  {
   "cell_type": "code",
   "execution_count": 4,
   "metadata": {},
   "outputs": [],
   "source": [
    "# recebe arquivo em csv\n",
    "data = pd.read_csv('Caso1.csv')"
   ]
  },
  {
   "cell_type": "code",
   "execution_count": 6,
   "metadata": {},
   "outputs": [
    {
     "name": "stdout",
     "output_type": "stream",
     "text": [
      "As Atividades que melhoraram o teste do paciente foi cozinhar, caminhar e hidroginastica\n",
      "As Atividades que pioraram o teste do paciente foi dormir, caminhar e ler\n"
     ]
    },
    {
     "name": "stderr",
     "output_type": "stream",
     "text": [
      "C:\\Users\\masak\\AppData\\Local\\Temp\\ipykernel_12604\\645142928.py:92: FutureWarning: Series.fillna with 'method' is deprecated and will raise in a future version. Use obj.ffill() or obj.bfill() instead.\n",
      "  data[\"Nota\"].fillna(method='ffill', inplace=True)\n"
     ]
    },
    {
     "data": {
      "text/plain": [
       "'\\nDescobri que em primeira instância, com 1 mês de dados não foram o suficiente para nos dizer precisamente o que melhora ou piora,\\njá que caminhar apareceu nas duas listas, há também atividades que apareceram poucas vezes que são dificeis de aparecer no resultado final,\\nMas como o onbjetivo do produto é ajudar na análise, o médico poderá ajustar as atividades e ir filtrando o que realmente piora ou melhora\\nRotina criada com notas +3 para cozinhar, +2 para hidroginástica, +1 para dormir, -3 para ler jornal, -2 para academia e -1 para caminhar\\nResultado com esse teste voltou melhora top 1 cozinhar, top 2 caminhar, top 3 hidroginástica. Desses 2 melhoram e 1 pioram\\nResultado com esse teste voltou melhora top 1 dormir, top 2 caminhar, top 3 ler. Desses 2 pioram e 1 melhoram\\n'"
      ]
     },
     "execution_count": 6,
     "metadata": {},
     "output_type": "execute_result"
    }
   ],
   "source": [
    "# Função que retorna a média das notas tiradas pelo paciente nos testes diários e a contagem dos dias de teste aplicados\n",
    "def MediaTeste(df):\n",
    "    # variáveis para soma das notas, contagem dos dias e contador do while\n",
    "    i = 0\n",
    "    cont = 0\n",
    "    soma = 0\n",
    "    # enquanto i for menor que termos em \"Data\"\n",
    "    while i < len(df[\"Data\"]):\n",
    "        # Se o termo em \"Data\" for diferente de \"nada\", vai adicionar nota na soma e adiciona contagem em dia\n",
    "        if df['Data'][i] != \"nada\":\n",
    "            soma += df[\"Nota\"][i] \n",
    "            cont += 1\n",
    "            i += 1\n",
    "        else:\n",
    "            i += 1\n",
    "    # Faz média das notas\n",
    "    media = soma / cont\n",
    "    return media, cont\n",
    "\n",
    "# Função que retorna uma lista com 3 listas, um com a listagem das atividades da rotina do paciente e as outras duas para ver\n",
    "# a quantidade de vezes que cada atividade aparece em dias de nota acima e abaixo da média\n",
    "def ListarAtividades(df, media):\n",
    "    # Criei 3 listas\n",
    "    lista = []\n",
    "    melhora = []\n",
    "    piora = []\n",
    "    i = 0\n",
    "    # faz lista de atividades\n",
    "    while i < len(df[\"Data\"]):\n",
    "        # Se a atividade não estiver na lista, irá adicionar a atividade na lista\n",
    "        if df['Atividade'][i] not in lista:\n",
    "            lista.append(df['Atividade'][i]) \n",
    "            i += 1\n",
    "        else:\n",
    "            i += 1\n",
    "\n",
    "    # adiciona a quantidade de termos que tem a lista das atividades na lista de melhora e piora\n",
    "    i = 0\n",
    "    while i < len(lista):\n",
    "        melhora.append(0)\n",
    "        piora.append(0)\n",
    "        i += 1\n",
    "\n",
    "    # Adiciona as vezes que cada atividade aparece em dias de nota acima e abaixo da média\n",
    "    i = 0\n",
    "    while i < len(df[\"Data\"]):\n",
    "        # Se nota maior que a média, adiciona pontuação em melhora, caso nota menor que média adiciona pontuação em piora\n",
    "        if df['Nota'][i] > media:\n",
    "            melhora[lista.index(df['Atividade'][i])] += 1\n",
    "            i += 1\n",
    "        else:\n",
    "            piora[lista.index(df['Atividade'][i])] += 1\n",
    "            i += 1\n",
    "\n",
    "    listaOficial = [lista, melhora, piora]\n",
    "    return listaOficial\n",
    "\n",
    "# Tira termos rotineiros, aqueles que não tem como serem mudados na rotica, como a alimentação\n",
    "def tirarRotina(lista):\n",
    "    i = 0\n",
    "    # Se a soma dos termos da melhora e piora de uma respectiva atividade for a quantidade de dias da realização do teste, zera a contagem para não aparecer nos dados\n",
    "    while i < len(lista[1]):\n",
    "        if lista[1][i] + lista[2][i] == dias:\n",
    "            lista[1][i] = 0\n",
    "            lista[2][i] = 0\n",
    "        i += 1\n",
    "    return lista\n",
    "\n",
    "# função que separa listas das atividades que melhoram e pioram\n",
    "def avanco(lista):\n",
    "    i = 0\n",
    "    listaMelhora=[]\n",
    "    listaPiora = []\n",
    "    # coloca a atividade e contagem na mesma lista\n",
    "    while i < len(lista[1]):\n",
    "        listaMelhora.append([lista[0][i], lista[1][i]])\n",
    "        listaPiora.append([lista[0][i], lista[2][i]])\n",
    "        i += 1\n",
    "    return listaMelhora, listaPiora\n",
    "\n",
    "# função para utilizar segundo termo no .sort\n",
    "def sort2 (lista):\n",
    "    return lista[1]\n",
    "\n",
    "# Após receber dado em csv e transformar em Dataframe, adicionamos \"nada\" em termos vazios na coluna Data\n",
    "data[\"Data\"].fillna('nada', inplace = True)\n",
    "\n",
    "# Calculamos a média das notas dos testes e quantidades de dias de aplicação\n",
    "Media, dias = MediaTeste(data)\n",
    "\n",
    "# Adicionamos as notas do dia nos espaços vazios \n",
    "data[\"Nota\"].fillna(method='ffill', inplace=True)\n",
    "\n",
    "# Fiz uma lista com atividades e notas que melhoraram e pioraram de acordo com a média\n",
    "lista = ListarAtividades(data, Media)\n",
    "\n",
    "# Tirei dados presentes diariamente, algo que não daria para tirar da rotina, como comer\n",
    "lista = tirarRotina(lista)\n",
    "\n",
    "# fiz duas listas com as atividades que mais aparecem nos dias que melhora a nota e piora\n",
    "Melhora, Piora = avanco(lista)\n",
    "\n",
    "# alinhei o segundo termo que são as notas em ordem decrescente\n",
    "Melhora.sort(key=sort2, reverse=True) \n",
    "Piora.sort(key=sort2, reverse=True) \n",
    "\n",
    "# printei top 3 atividades que mais melhoraram e pioraram \n",
    "print (f\"As Atividades que melhoraram o teste do paciente foi {Melhora[0][0]}, {Melhora[1][0]} e {Melhora[2][0]}\")\n",
    "print (f\"As Atividades que pioraram o teste do paciente foi {Piora[0][0]}, {Piora[1][0]} e {Piora[2][0]}\")\n",
    "'''\n",
    "Descobri que em primeira instância, com 1 mês de dados não foram o suficiente para nos dizer precisamente o que melhora ou piora,\n",
    "já que caminhar apareceu nas duas listas, há também atividades que apareceram poucas vezes que são dificeis de aparecer no resultado final,\n",
    "Mas como o objetivo do produto é ajudar na análise, o médico poderá ajustar as atividades e ir filtrando o que realmente piora ou melhora\n",
    "Rotina criada com notas +3 para cozinhar, +2 para hidroginástica, +1 para dormir, -3 para ler jornal, -2 para academia e -1 para caminhar\n",
    "Resultado com esse teste voltou melhora top 1 cozinhar, top 2 caminhar, top 3 hidroginástica. Desses 2 melhoram e 1 pioram\n",
    "Resultado com esse teste voltou melhora top 1 dormir, top 2 caminhar, top 3 ler. Desses 2 pioram e 1 melhoram\n",
    "'''"
   ]
  }
 ],
 "metadata": {
  "kernelspec": {
   "display_name": "Python 3",
   "language": "python",
   "name": "python3"
  },
  "language_info": {
   "codemirror_mode": {
    "name": "ipython",
    "version": 3
   },
   "file_extension": ".py",
   "mimetype": "text/x-python",
   "name": "python",
   "nbconvert_exporter": "python",
   "pygments_lexer": "ipython3",
   "version": "3.11.5"
  },
  "orig_nbformat": 4
 },
 "nbformat": 4,
 "nbformat_minor": 2
}
